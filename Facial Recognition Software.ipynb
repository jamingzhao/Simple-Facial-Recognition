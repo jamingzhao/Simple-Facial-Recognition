{
 "cells": [
  {
   "cell_type": "markdown",
   "metadata": {},
   "source": [
    "### Facial Recognition"
   ]
  },
  {
   "cell_type": "code",
   "execution_count": 20,
   "metadata": {},
   "outputs": [],
   "source": [
    "#https://towardsdatascience.com/facial-recognition-using-deep-learning-a74e9059a150\n",
    "    \n",
    "import dlib\n",
    "import scipy.misc\n",
    "import numpy as np\n",
    "import os\n",
    "\n",
    "\n",
    "#Detect faces in images\n",
    "\n",
    "face_detector = dlib.get_frontal_face_detector()\n",
    "\n",
    "# Get Pose Predictor from dlib\n",
    "# This allows us to detect landmark points in faces and understand the pose/angle of the face\n",
    "\n",
    "shape_predictor = dlib.shape_predictor('shape_predictor_68_face_landmarks.dat')\n",
    "\n",
    "# Get the face recognition model\n",
    "# This is what gives us the face encodings (numbers that identify the face of a particular person)\n",
    "\n",
    "face_recognition_model = dlib.face_recognition_model_v1('dlib_face_recognition_resnet_model_v1.dat')\n",
    "\n",
    "# To avoid false matches, use lower value\n",
    "\n",
    "# To avoid false negatives (i.e. faces of the same person doesn't match), use higher value\n",
    "\n",
    "TOLERANCE = 0.6"
   ]
  },
  {
   "cell_type": "code",
   "execution_count": 21,
   "metadata": {},
   "outputs": [],
   "source": [
    "# This function will take an image and return its face encodings using the neural network\n",
    "def get_face_encodings(path_to_image):\n",
    "    # Load image using scipy\n",
    "    image = scipy.misc.imread(path_to_image)\n",
    "    # Detect faces using the face detector\n",
    "    detected_faces = face_detector(image, 1)\n",
    "    # Get pose/landmarks of those faces\n",
    "    # Will be used as an input to the function that computes face encodings\n",
    "    # This allows the neural network to be able to produce similar numbers for faces of the same people, regardless of camera angle and/or face positioning in the image\n",
    "    shapes_faces = [shape_predictor(image, face) for face in detected_faces]\n",
    "    # For every face detected, compute the face encodings\n",
    "    return [np.array(face_recognition_model.compute_face_descriptor(image, face_pose, 1)) for face_pose in shapes_faces]\n"
   ]
  },
  {
   "cell_type": "code",
   "execution_count": 22,
   "metadata": {},
   "outputs": [],
   "source": [
    "# This function takes a list of known faces\n",
    "def compare_face_encodings(known_faces, face):\n",
    "    # Finds the difference between each known face and the given face (that we are comparing)\n",
    "    # Calculate norm for the differences with each known face\n",
    "    # Return an array with True/Face values based on whether or not a known face matched with the given face\n",
    "    # A match occurs when the (norm) difference between a known face and the given face is less than or equal to the TOLERANCE value\n",
    "    return (np.linalg.norm(known_faces - face, axis=1) <= TOLERANCE)"
   ]
  },
  {
   "cell_type": "code",
   "execution_count": 23,
   "metadata": {},
   "outputs": [],
   "source": [
    "# This function returns the name of the person whose image matches with the given face (or 'Not Found')\n",
    "# known_faces is a list of face encodings\n",
    "# names is a list of the names of people (in the same order as the face encodings - to match the name with an encoding)\n",
    "# face is the face we are looking for\n",
    "def find_match(known_faces, names, face):\n",
    "    # Call compare_face_encodings to get a list of True/False values indicating whether or not there's a match\n",
    "    matches = compare_face_encodings(known_faces, face)\n",
    "    # Return the name of the first match\n",
    "    count = 0\n",
    "    for match in matches:\n",
    "        if match:\n",
    "            return names[count]\n",
    "        count += 1\n",
    "    # Return not found if no match found\n",
    "    return 'Not Found'"
   ]
  },
  {
   "cell_type": "code",
   "execution_count": null,
   "metadata": {},
   "outputs": [],
   "source": [
    "# Get path to all the known images\n",
    "# Filtering on .jpg extension - so this will only work with JPEG images ending with .jpg\n",
    "image_filenames = filter(lambda x: x.endswith('.jpg'), os.listdir('images/'))\n",
    "# Sort in alphabetical order\n",
    "image_filenames = sorted(image_filenames)\n",
    "# Get full paths to images\n",
    "paths_to_images = ['images/' + x for x in image_filenames]\n",
    "# List of face encodings we have\n",
    "face_encodings = []\n",
    "# Loop over images to get the encoding one by one\n",
    "for path_to_image in paths_to_images:\n",
    "    # Get face encodings from the image\n",
    "    face_encodings_in_image = get_face_encodings(path_to_image)\n",
    "    # Make sure there's exactly one face in the image\n",
    "    if len(face_encodings_in_image) != 1:\n",
    "        print(\"Please change image: \" + path_to_image + \" - it has \" + str(len(face_encodings_in_image)) + \" faces; it can only have one\")\n",
    "        exit()\n",
    "    # Append the face encoding found in that image to the list of face encodings we have\n",
    "    face_encodings.append(get_face_encodings(path_to_image)[0])"
   ]
  },
  {
   "cell_type": "code",
   "execution_count": null,
   "metadata": {},
   "outputs": [],
   "source": []
  },
  {
   "cell_type": "code",
   "execution_count": null,
   "metadata": {},
   "outputs": [],
   "source": []
  },
  {
   "cell_type": "code",
   "execution_count": null,
   "metadata": {},
   "outputs": [],
   "source": []
  }
 ],
 "metadata": {
  "kernelspec": {
   "display_name": "Python 3",
   "language": "python",
   "name": "python3"
  },
  "language_info": {
   "codemirror_mode": {
    "name": "ipython",
    "version": 3
   },
   "file_extension": ".py",
   "mimetype": "text/x-python",
   "name": "python",
   "nbconvert_exporter": "python",
   "pygments_lexer": "ipython3",
   "version": "3.6.5"
  }
 },
 "nbformat": 4,
 "nbformat_minor": 2
}
